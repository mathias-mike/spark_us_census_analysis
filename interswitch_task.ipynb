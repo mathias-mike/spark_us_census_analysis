{
 "cells": [
  {
   "cell_type": "code",
   "execution_count": 1,
   "id": "4b0fd474",
   "metadata": {},
   "outputs": [],
   "source": [
    "import pyspark\n",
    "from pyspark import SparkConf\n",
    "from pyspark.sql import SparkSession\n",
    "from pyspark.sql.functions import udf\n",
    "from pyspark.sql.types import StringType\n",
    "\n",
    "from utils.columns_enum import ValidColumns\n",
    "from utils import data_dictionary"
   ]
  },
  {
   "cell_type": "code",
   "execution_count": 2,
   "id": "adef2c6d",
   "metadata": {},
   "outputs": [
    {
     "name": "stderr",
     "output_type": "stream",
     "text": [
      "Setting default log level to \"WARN\".\n",
      "To adjust logging level use sc.setLogLevel(newLevel). For SparkR, use setLogLevel(newLevel).\n"
     ]
    },
    {
     "name": "stdout",
     "output_type": "stream",
     "text": [
      "23/01/19 11:25:42 WARN NativeCodeLoader: Unable to load native-hadoop library for your platform... using builtin-java classes where applicable\n"
     ]
    }
   ],
   "source": [
    "spark = SparkSession \\\n",
    "    .builder \\\n",
    "    .appName(\"Testing Spark\") \\\n",
    "    .getOrCreate()"
   ]
  },
  {
   "cell_type": "code",
   "execution_count": 3,
   "id": "dc3a67a6",
   "metadata": {},
   "outputs": [],
   "source": [
    "df = spark.read.text('/home/ubuntu/dec17pub.dat')"
   ]
  },
  {
   "cell_type": "markdown",
   "id": "a3f91a86",
   "metadata": {},
   "source": [
    "#### Extracting information"
   ]
  },
  {
   "cell_type": "code",
   "execution_count": 4,
   "id": "19a6e749",
   "metadata": {},
   "outputs": [],
   "source": [
    "# Extracting Full household identifier.\n",
    "extract_column = udf(lambda row: row[0:15] + row[70:75], StringType())\n",
    "df = df.withColumn(ValidColumns.FULL_HOUSEHOLD_IDENTIFIER.value, extract_column(\"value\"))"
   ]
  },
  {
   "cell_type": "code",
   "execution_count": 5,
   "id": "24003c71",
   "metadata": {},
   "outputs": [],
   "source": [
    "# Extracting Time of interview in YYYY/MMM format.\n",
    "extract_column = udf(lambda row: row[17:21] + '/' + data_dictionary.MONTHS.get(int(row[15:17])), StringType())\n",
    "df = df.withColumn(ValidColumns.TIME_OF_INTERVIEW.value, extract_column(\"value\"))"
   ]
  },
  {
   "cell_type": "code",
   "execution_count": 6,
   "id": "59dbc096",
   "metadata": {},
   "outputs": [],
   "source": [
    "# Extracting Final outcome of the survey.\n",
    "extract_column = udf(lambda row: data_dictionary.VALID_FINAL_OUTCOME.get(row[23:26].zfill(3)), StringType())\n",
    "df = df.withColumn(ValidColumns.FINAL_OUTCOME_OF_SURVEY.value, extract_column(\"value\"))"
   ]
  },
  {
   "cell_type": "code",
   "execution_count": 7,
   "id": "552e463a",
   "metadata": {},
   "outputs": [],
   "source": [
    "# Extracting Type of housing unit.\n",
    "extract_column = udf(lambda row: data_dictionary.VALID_TYPE_OF_HOUSING_UNIT.get(int(row[30:32])), StringType())\n",
    "df = df.withColumn(ValidColumns.TYPE_OF_HOUSING_UNIT.value, extract_column(\"value\"))"
   ]
  },
  {
   "cell_type": "code",
   "execution_count": 8,
   "id": "d32bf47e",
   "metadata": {},
   "outputs": [],
   "source": [
    "# Extracting Household type.\n",
    "extract_column = udf(lambda row: data_dictionary.VALID_HOUSEHOLD_TYPE.get(int(row[60:62])), StringType())\n",
    "df = df.withColumn(ValidColumns.HOUSEHOLD_TYPE.value, extract_column(\"value\"))"
   ]
  },
  {
   "cell_type": "code",
   "execution_count": 9,
   "id": "35580555",
   "metadata": {},
   "outputs": [],
   "source": [
    "# Extracting Apartment/Household has a telephone.\n",
    "extract_column = udf(lambda row: data_dictionary.VALID_YES_NO.get(int(row[32:34])), StringType())\n",
    "df = df.withColumn(ValidColumns.HOUSEHOLD_HAS_TELEPHONE.value, extract_column(\"value\"))"
   ]
  },
  {
   "cell_type": "code",
   "execution_count": 10,
   "id": "07f7ae74",
   "metadata": {},
   "outputs": [],
   "source": [
    "# Extracting Apartment/Household can access a telephone elsewhere.\n",
    "extract_column = udf(lambda row: data_dictionary.VALID_YES_NO.get(int(row[34:36])), StringType())\n",
    "df = df.withColumn(ValidColumns.HOUSEHOLD_CAN_ACCESS_TELEPHONE_ELSEWHERE.value, extract_column(\"value\"))"
   ]
  },
  {
   "cell_type": "code",
   "execution_count": 11,
   "id": "a45f7aa9",
   "metadata": {},
   "outputs": [],
   "source": [
    "# Extracting Is telephone interview acceptable for the responder.\n",
    "extract_column = udf(lambda row: data_dictionary.VALID_YES_NO.get(int(row[36:38])), StringType())\n",
    "df = df.withColumn(ValidColumns.IS_TELEPHONE_INTERVIEW_ACCEPTABLE_FOR_THE_RESPONDER.value, extract_column(\"value\"))"
   ]
  },
  {
   "cell_type": "code",
   "execution_count": 12,
   "id": "5c07eae4",
   "metadata": {},
   "outputs": [],
   "source": [
    "# Extracting Type of interview.\n",
    "extract_column = udf(lambda row: data_dictionary.VALID_TYPE_OF_INTERVIEW.get(int(row[64:66])), StringType())\n",
    "df = df.withColumn(ValidColumns.TYPE_OF_INTERVIEW.value, extract_column(\"value\"))"
   ]
  },
  {
   "cell_type": "code",
   "execution_count": 13,
   "id": "ab154218",
   "metadata": {},
   "outputs": [],
   "source": [
    "# Extracting Family income range.\n",
    "extract_column = udf(lambda row: data_dictionary.VALID_FAMILY_INCOME_RANGE.get(int(row[38:40])), StringType())\n",
    "df = df.withColumn(ValidColumns.FAMILY_INCOME.value, extract_column(\"value\"))"
   ]
  },
  {
   "cell_type": "code",
   "execution_count": 14,
   "id": "0525a60e",
   "metadata": {},
   "outputs": [],
   "source": [
    "# Extracting Geographical division/location.\n",
    "extract_column = udf(lambda row: data_dictionary.VALID_DIVISIONS.get(int(row[90:91])) + '/' + data_dictionary.VALID_REGIONS.get(int(row[88:90])), StringType())\n",
    "df = df.withColumn(ValidColumns.GEOGRAPHICAL_DIVISION_LOCATION.value, extract_column(\"value\"))"
   ]
  },
  {
   "cell_type": "code",
   "execution_count": 15,
   "id": "57ff07be",
   "metadata": {},
   "outputs": [],
   "source": [
    "# Extracting Race\n",
    "extract_column = udf(lambda row: data_dictionary.VALID_RACE.get(row[38:40].zfill(2)), StringType())\n",
    "df = df.withColumn(ValidColumns.RACE.value, extract_column(\"value\"))"
   ]
  },
  {
   "cell_type": "code",
   "execution_count": 16,
   "id": "47f22c83",
   "metadata": {},
   "outputs": [
    {
     "name": "stderr",
     "output_type": "stream",
     "text": [
      "\r",
      "[Stage 0:>                                                          (0 + 1) / 1]\r"
     ]
    },
    {
     "name": "stdout",
     "output_type": "stream",
     "text": [
      "+-------------------------+-----------------+-----------------------+--------------------+--------------------+-----------------------+----------------------------------------+---------------------------------------------------+-----------------+-------------------+------------------------------+-----------+\n",
      "|full_household_identifier|time_of_interview|final_outcome_of_survey|type_of_housing_unit|      household_type|household_has_telephone|household_can_access_telephone_elsewhere|is_telephone_interview_acceptable_for_the_responder|type_of_interview|family_income_range|geographical_division_location|       race|\n",
      "+-------------------------+-----------------+-----------------------+--------------------+--------------------+-----------------------+----------------------------------------+---------------------------------------------------+-----------------+-------------------+------------------------------+-----------+\n",
      "|     00000479511071906011|         2017/DEC|          CAPI COMPLETE|HOUSE, APARTMENT,...|HUSBAND/WIFE PRIM...|                    YES|                                    null|                                                YES|        TELEPHONE|   30,000 TO 34,999|          EAST SOUTH CENTRA...|       null|\n",
      "|     00000479511071906011|         2017/DEC|          CAPI COMPLETE|HOUSE, APARTMENT,...|HUSBAND/WIFE PRIM...|                    YES|                                    null|                                                YES|        TELEPHONE|   30,000 TO 34,999|          EAST SOUTH CENTRA...|       null|\n",
      "|     00007169100494106111|         2017/DEC|          CAPI COMPLETE|HOUSE, APARTMENT,...|HUSBAND/WIFE PRIM...|                    YES|                                    null|                                                YES|         PERSONAL|   40,000 TO 49,999|          EAST SOUTH CENTRA...|Black-Asian|\n",
      "|     00007169100494106111|         2017/DEC|          CAPI COMPLETE|HOUSE, APARTMENT,...|HUSBAND/WIFE PRIM...|                    YES|                                    null|                                                YES|         PERSONAL|   40,000 TO 49,999|          EAST SOUTH CENTRA...|Black-Asian|\n",
      "|     00007169100494106111|         2017/DEC|          CAPI COMPLETE|HOUSE, APARTMENT,...|HUSBAND/WIFE PRIM...|                    YES|                                    null|                                                YES|         PERSONAL|   40,000 TO 49,999|          EAST SOUTH CENTRA...|Black-Asian|\n",
      "|     00011017798798608011|         2017/DEC|          CAPI COMPLETE|HOUSE, APARTMENT,...|HUSBAND/WIFE PRIM...|                    YES|                                    null|                                                YES|         PERSONAL|   75,000 TO 99,999|          EAST SOUTH CENTRA...|      AI-HP|\n",
      "|     00011017798798608011|         2017/DEC|          CAPI COMPLETE|HOUSE, APARTMENT,...|HUSBAND/WIFE PRIM...|                    YES|                                    null|                                                YES|         PERSONAL|   75,000 TO 99,999|          EAST SOUTH CENTRA...|      AI-HP|\n",
      "|     00011020659338108011|         2017/DEC|       LANGUAGE BARRIER|HOUSE, APARTMENT,...|NON-INTERVIEW HOU...|                   null|                                    null|                                               null|         PERSONAL|               null|          EAST SOUTH CENTRA...|       null|\n",
      "|     00011028481568008111|         2017/DEC|          CAPI COMPLETE|HOUSE, APARTMENT,...|CIVILIAN FEMALE P...|                    YES|                                    null|                                                YES|         PERSONAL|   30,000 TO 34,999|          EAST SOUTH CENTRA...|       null|\n",
      "|     00011032785646906111|         2017/DEC|          CAPI COMPLETE|HOUSE, APARTMENT,...|CIVILIAN FEMALE P...|                    YES|                                    null|                                                YES|         PERSONAL|   12,500 TO 14,999|          EAST SOUTH CENTRA...|       null|\n",
      "+-------------------------+-----------------+-----------------------+--------------------+--------------------+-----------------------+----------------------------------------+---------------------------------------------------+-----------------+-------------------+------------------------------+-----------+\n",
      "only showing top 10 rows\n",
      "\n"
     ]
    },
    {
     "name": "stderr",
     "output_type": "stream",
     "text": [
      "\r",
      "                                                                                \r"
     ]
    }
   ],
   "source": [
    "column_list = [col.value for col in ValidColumns]\n",
    "df.select(column_list).show(10)"
   ]
  },
  {
   "cell_type": "markdown",
   "id": "a630e03d",
   "metadata": {},
   "source": [
    "#### Analysis"
   ]
  },
  {
   "cell_type": "code",
   "execution_count": 17,
   "id": "ccfad8e5",
   "metadata": {},
   "outputs": [
    {
     "name": "stderr",
     "output_type": "stream",
     "text": [
      "\r",
      "[Stage 1:>                                                          (0 + 2) / 2]\r"
     ]
    },
    {
     "name": "stdout",
     "output_type": "stream",
     "text": [
      "+-------------------+-----+\n",
      "|family_income_range|count|\n",
      "+-------------------+-----+\n",
      "|               null|20391|\n",
      "| 100,000 TO 149,999|17794|\n",
      "|   75,000 TO 99,999|16557|\n",
      "|    150,000 OR MORE|15704|\n",
      "|   60,000 TO 74,999|13442|\n",
      "|   50,000 TO 59,999| 9971|\n",
      "|   40,000 TO 49,999| 9788|\n",
      "|   30,000 TO 34,999| 6743|\n",
      "|   35,000 TO 39,999| 6620|\n",
      "|   20,000 TO 24,999| 6312|\n",
      "+-------------------+-----+\n",
      "only showing top 10 rows\n",
      "\n"
     ]
    },
    {
     "name": "stderr",
     "output_type": "stream",
     "text": [
      "\r",
      "                                                                                \r"
     ]
    }
   ],
   "source": [
    "# What is the count of responders per family income range (show top 10)?\n",
    "df.groupBy('family_income_range').count().sort(\"count\", ascending=False).show(10)"
   ]
  },
  {
   "cell_type": "code",
   "execution_count": 18,
   "id": "38d2873a",
   "metadata": {
    "scrolled": true
   },
   "outputs": [
    {
     "name": "stderr",
     "output_type": "stream",
     "text": [
      "\r",
      "[Stage 4:>                                                          (0 + 2) / 2]\r"
     ]
    },
    {
     "name": "stdout",
     "output_type": "stream",
     "text": [
      "+------------------------------+--------+-----+\n",
      "|geographical_division_location|    race|count|\n",
      "+------------------------------+--------+-----+\n",
      "|          SOUTH ATLANTIC/SOUTH|    null|11436|\n",
      "|          WEST SOUTH CENTRA...|    null| 7133|\n",
      "|                 MOUNTAIN/WEST|    null| 7084|\n",
      "|                  PACIFIC/WEST|    null| 6840|\n",
      "|          EAST NORTH CENTRA...|    null| 5600|\n",
      "|          EAST SOUTH CENTRA...|    null| 4826|\n",
      "|          MIDDLE ATLANTIC/N...|    null| 4797|\n",
      "|          WEST NORTH CENTRA...|    null| 4785|\n",
      "|          NEW ENGLAND/NORTH...|    null| 4079|\n",
      "|          SOUTH ATLANTIC/SOUTH|Asian-HP| 3162|\n",
      "+------------------------------+--------+-----+\n",
      "only showing top 10 rows\n",
      "\n"
     ]
    },
    {
     "name": "stderr",
     "output_type": "stream",
     "text": [
      "\r",
      "[Stage 4:=============================>                             (1 + 1) / 2]\r",
      "\r",
      "                                                                                \r"
     ]
    }
   ],
   "source": [
    "# What is the count of responders per geographical division/location and race (show top 10)?\n",
    "df.groupBy(['geographical_division_location', 'race']).count().sort(\"count\", ascending=False).show(10)"
   ]
  },
  {
   "cell_type": "code",
   "execution_count": 19,
   "id": "7a4eafbb",
   "metadata": {},
   "outputs": [
    {
     "name": "stderr",
     "output_type": "stream",
     "text": [
      "                                                                                \r"
     ]
    },
    {
     "data": {
      "text/plain": [
       "633"
      ]
     },
     "execution_count": 19,
     "metadata": {},
     "output_type": "execute_result"
    }
   ],
   "source": [
    "# How many responders do not have telephone in their house, but can access a telephone elsewhere and telephone interview is accepted (show top 10)?\n",
    "df.select(['household_has_telephone', 'household_can_access_telephone_elsewhere', 'is_telephone_interview_acceptable_for_the_responder'])\\\n",
    "        .filter(\"household_has_telephone = 'NO' and household_can_access_telephone_elsewhere = 'YES' and is_telephone_interview_acceptable_for_the_responder = 'YES'\").count()"
   ]
  },
  {
   "cell_type": "code",
   "execution_count": 20,
   "id": "7497973e",
   "metadata": {},
   "outputs": [
    {
     "name": "stderr",
     "output_type": "stream",
     "text": [
      "                                                                                \r"
     ]
    },
    {
     "data": {
      "text/plain": [
       "0"
      ]
     },
     "execution_count": 20,
     "metadata": {},
     "output_type": "execute_result"
    }
   ],
   "source": [
    "# How many responders can access to a telephone, but telephone interview is not accepted (show top 10)?\n",
    "df.select(['household_has_telephone', 'is_telephone_interview_acceptable_for_the_responder'])\\\n",
    "        .filter(\"household_has_telephone = 'YES' and is_telephone_interview_acceptable_for_the_responder = 'NO'\").count()"
   ]
  },
  {
   "cell_type": "markdown",
   "id": "64d8f126",
   "metadata": {},
   "source": [
    "#### Download cleaned data to csv"
   ]
  },
  {
   "cell_type": "code",
   "execution_count": 22,
   "id": "159e77e5",
   "metadata": {},
   "outputs": [
    {
     "name": "stderr",
     "output_type": "stream",
     "text": [
      "                                                                                \r"
     ]
    }
   ],
   "source": [
    "column_list = [col.value for col in ValidColumns]\n",
    "df.select(column_list).write.csv(\"dec17pub.csv\", mode=\"overwrite\")"
   ]
  }
 ],
 "metadata": {
  "kernelspec": {
   "display_name": "Python 3 (ipykernel)",
   "language": "python",
   "name": "python3"
  },
  "language_info": {
   "codemirror_mode": {
    "name": "ipython",
    "version": 3
   },
   "file_extension": ".py",
   "mimetype": "text/x-python",
   "name": "python",
   "nbconvert_exporter": "python",
   "pygments_lexer": "ipython3",
   "version": "3.10.6"
  }
 },
 "nbformat": 4,
 "nbformat_minor": 5
}
